{
  "cells": [
    {
      "cell_type": "code",
      "execution_count": null,
      "metadata": {
        "id": "Jn4_RfISxxk2"
      },
      "outputs": [],
      "source": [
        "import numpy as np\n",
        "import matplotlib.pyplot as plt\n",
        "from scipy.optimize import minimize\n"
      ]
    },
    {
      "cell_type": "markdown",
      "metadata": {
        "id": "BpIXLgqSxxk3"
      },
      "source": [
        "This is a text box."
      ]
    },
    {
      "cell_type": "code",
      "execution_count": null,
      "metadata": {
        "id": "zUke21PDxxk3",
        "outputId": "1460658c-a433-4a88-b129-ae94981de051"
      },
      "outputs": [
        {
          "name": "stdout",
          "output_type": "stream",
          "text": [
            "Hello \n",
            "[0.5488135  0.71518937 0.60276338]\n",
            "[0.54488318 0.4236548  0.64589411 0.43758721]\n"
          ]
        }
      ],
      "source": [
        "print(\"Hello Krzyz\")\n",
        "i = 3\n",
        "j = 4\n",
        "np.random.seed(0)\n",
        "x = np.random.rand(i)\n",
        "y = np.random.rand(j)\n",
        "print(x)\n",
        "print(y)"
      ]
    }
  ],
  "metadata": {
    "kernelspec": {
      "display_name": "gametheory",
      "language": "python",
      "name": "python3"
    },
    "language_info": {
      "codemirror_mode": {
        "name": "ipython",
        "version": 3
      },
      "file_extension": ".py",
      "mimetype": "text/x-python",
      "name": "python",
      "nbconvert_exporter": "python",
      "pygments_lexer": "ipython3",
      "version": "3.11.11"
    },
    "colab": {
      "provenance": []
    }
  },
  "nbformat": 4,
  "nbformat_minor": 0
}